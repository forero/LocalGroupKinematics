{
 "cells": [
  {
   "cell_type": "code",
   "execution_count": 1,
   "metadata": {},
   "outputs": [],
   "source": [
    "import numpy as np\n",
    "import matplotlib.pyplot as plt"
   ]
  },
  {
   "cell_type": "code",
   "execution_count": 23,
   "metadata": {},
   "outputs": [],
   "source": [
    "def process_file(filename):\n",
    "    data = np.loadtxt(filename, skiprows=2)\n",
    "    mvir = data[:,9]\n",
    "    ii = np.argsort(-mvir)\n",
    "    data = data[ii,:]\n",
    "    mass = data[:2,9]\n",
    "    vels = data[:2,4:7]\n",
    "    pos = data[:2,1:4]\n",
    "    #print(mass, np.linalg.norm(vels[0,:]))\n",
    "    m_tot = np.sum(mass)\n",
    "    vel_x = (mass[1]*vels[1,0] + mass[0]*vels[0,0])/m_tot\n",
    "    vel_y = (mass[1]*vels[1,1] + mass[0]*vels[0,1])/m_tot\n",
    "    vel_z = (mass[1]*vels[1,2] + mass[0]*vels[0,2])/m_tot\n",
    "    \n",
    "    delta_pos = np.ones(3)\n",
    "    delta_vel = np.ones(3)\n",
    "    for i in range(3):\n",
    "        delta_pos[i] = pos[1,i] - pos[0,i]\n",
    "        delta_vel[i] = vels[1,i] - vels[0,i]\n",
    "    \n",
    "    v_norm = np.sqrt(np.dot(delta_vel, delta_vel))\n",
    "    pos_norm = np.sqrt(np.dot(delta_pos, delta_pos))\n",
    "    \n",
    "    v_rad = (np.dot(delta_vel, delta_pos)/pos_norm) \n",
    "    v_tan = np.sqrt(v_norm**2 - v_rad**2)\n",
    "    v_rad = v_rad + pos_norm*75.0\n",
    "    return v_rad, v_tan"
   ]
  },
  {
   "cell_type": "code",
   "execution_count": 26,
   "metadata": {},
   "outputs": [
    {
     "name": "stdout",
     "output_type": "stream",
     "text": [
      "-57.00915733492262 43.07089387738404\n"
     ]
    }
   ],
   "source": [
    "v = []\n",
    "for i in range(12):\n",
    "    v.append(process_file('../data/elvis_{:d}.dat'.format(i)))\n",
    "v = np.array(v)\n",
    "print(np.median(v[:,0]), np.median(v[:,1]))"
   ]
  },
  {
   "cell_type": "code",
   "execution_count": 25,
   "metadata": {},
   "outputs": [
    {
     "data": {
      "text/plain": [
       "array([-39.04,  -7.68,  80.53])"
      ]
     },
     "execution_count": 25,
     "metadata": {},
     "output_type": "execute_result"
    }
   ],
   "source": [
    "a = np.array([-7.94 ,   3.98,   71.31])\n",
    "b = np.array([31.10,   11.66,   -9.22])\n",
    "\n",
    "a - b\n"
   ]
  },
  {
   "cell_type": "code",
   "execution_count": null,
   "metadata": {},
   "outputs": [],
   "source": []
  }
 ],
 "metadata": {
  "kernelspec": {
   "display_name": "Python 3",
   "language": "python",
   "name": "python3"
  },
  "language_info": {
   "codemirror_mode": {
    "name": "ipython",
    "version": 3
   },
   "file_extension": ".py",
   "mimetype": "text/x-python",
   "name": "python",
   "nbconvert_exporter": "python",
   "pygments_lexer": "ipython3",
   "version": "3.6.10"
  }
 },
 "nbformat": 4,
 "nbformat_minor": 5
}
